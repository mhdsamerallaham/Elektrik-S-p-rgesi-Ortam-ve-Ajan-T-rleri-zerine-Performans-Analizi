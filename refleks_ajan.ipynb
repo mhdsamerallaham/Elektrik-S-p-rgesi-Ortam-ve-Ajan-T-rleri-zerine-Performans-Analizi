{
 "cells": [
  {
   "cell_type": "code",
   "execution_count": 9,
   "id": "888c2127-2b45-418e-ad75-e1353962cdae",
   "metadata": {},
   "outputs": [
    {
     "name": "stdout",
     "output_type": "stream",
     "text": [
      "Deneme 1: Başarı Oranı: %100.00\n",
      "Deneme 2: Başarı Oranı: %100.00\n",
      "Deneme 3: Başarı Oranı: %100.00\n",
      "Deneme 4: Başarı Oranı: %100.00\n",
      "Deneme 5: Başarı Oranı: %100.00\n",
      "Deneme 6: Başarı Oranı: %100.00\n",
      "Deneme 7: Başarı Oranı: %100.00\n",
      "Deneme 8: Başarı Oranı: %100.00\n",
      "Deneme 9: Başarı Oranı: %100.00\n",
      "Deneme 10: Başarı Oranı: %100.00\n",
      "Genel Başarı Oranı: %100.00\n"
     ]
    },
    {
     "data": {
      "image/png": "[encoded data removed]",
      "text/plain": [
       "<Figure size 640x480 with 1 Axes>"
      ]
     },
     "metadata": {},
     "output_type": "display_data"
    },
    {
     "name": "stdout",
     "output_type": "stream",
     "text": [
      "Çevresel Özellikler: {'Gözlenebilirlik': 'Kısmi Gözlenebilir', 'Deterministik': 'Stokastik', 'Epizodik': 'Epizodik', 'Dinamik': 'Statik', 'Kesikli': 'Kesikli', 'Ajan': 'Tekli-ajan'}\n"
     ]
    }
   ],
   "source": [
    "import random\n",
    "import matplotlib.pyplot as plt\n",
    "\n",
    "class ElektrikSupurgesiOrtam:\n",
    "    def __init__(self):\n",
    "        self.konumlar = {\n",
    "            \"A\": random.choice([\"Temiz\", \"Kirli\"]),\n",
    "            \"B\": random.choice([\"Temiz\", \"Kirli\"])\n",
    "        }\n",
    "        self.ajan_konum = random.choice([\"A\", \"B\"])\n",
    "\n",
    "    def temiz_mi(self):\n",
    "        return self.konumlar[\"A\"] == \"Temiz\" and self.konumlar[\"B\"] == \"Temiz\"\n",
    "\n",
    "    def sola_git(self):\n",
    "        self.ajan_konum = \"A\"\n",
    "\n",
    "    def saga_git(self):\n",
    "        self.ajan_konum = \"B\"\n",
    "\n",
    "    def supur(self):\n",
    "        self.konumlar[self.ajan_konum] = \"Temiz\"\n",
    "\n",
    "    def eylemi_gerceklestir(self, eylem):\n",
    "        if eylem == \"sola\":\n",
    "            self.sola_git()\n",
    "        elif eylem == \"sağa\":\n",
    "            self.saga_git()\n",
    "        elif eylem == \"süpür\":\n",
    "            self.supur()\n",
    "\n",
    "class RefleksAjan:\n",
    "    def __init__(self, ortam):\n",
    "        self.env = ortam\n",
    "        self.successful_cleanings = 0\n",
    "\n",
    "    def act(self):\n",
    "        if self.env.konumlar[self.env.ajan_konum] == \"Kirli\":\n",
    "            self.env.eylemi_gerceklestir(\"süpür\")\n",
    "            self.successful_cleanings += 1\n",
    "        else:\n",
    "            # Eğer konum temizse, rastgele sola veya sağa hareket et\n",
    "            hareket = random.choice([\"sola\", \"sağa\"])\n",
    "            self.env.eylemi_gerceklestir(hareket)\n",
    "\n",
    "def simulate_refleks_ajan(deneme_sayisi=10):\n",
    "    basari_oranlari = []\n",
    "    \n",
    "    for deneme in range(deneme_sayisi):\n",
    "        ortam = ElektrikSupurgesiOrtam()\n",
    "        ajan_instance = RefleksAjan(ortam)\n",
    "        \n",
    "        for _ in range(10):  # 10 adım\n",
    "            ajan_instance.act()\n",
    "        \n",
    "        # Başarı oranını her deneme için kontrol et\n",
    "        # Tüm alanların temizlenmesi durumunda başarı oranını hesapla\n",
    "        if ortam.temiz_mi():\n",
    "            success_rate = 100  # Başarı oranı %100\n",
    "        else:\n",
    "            success_rate = 0  # Başarı oranı %0\n",
    "            \n",
    "        basari_oranlari.append(success_rate)\n",
    "        \n",
    "        # Her denemeden sonra çıktı ver\n",
    "        print(f\"Deneme {deneme + 1}: Başarı Oranı: %{success_rate:.2f}\")\n",
    "    \n",
    "    genel_basari_orani = sum(basari_oranlari) / deneme_sayisi\n",
    "    print(f\"Genel Başarı Oranı: %{genel_basari_orani:.2f}\")\n",
    "    \n",
    "    # Görselleştirme\n",
    "    plt.bar(range(1, deneme_sayisi + 1), basari_oranlari, color='blue')\n",
    "    plt.xlabel('Deneme Sayısı')\n",
    "    plt.ylabel('Başarı Oranı (%)')\n",
    "    plt.title('Refleks Ajan Başarı Oranı')\n",
    "    plt.axhline(y=genel_basari_orani, color='red', linestyle='--')\n",
    "    plt.show()\n",
    "\n",
    "    # Çevresel Özellikler\n",
    "    cevresel_ozellikler = {\n",
    "        \"Gözlenebilirlik\": \"Kısmi Gözlenebilir\",\n",
    "        \"Deterministik\": \"Stokastik\",\n",
    "        \"Epizodik\": \"Epizodik\",\n",
    "        \"Dinamik\": \"Statik\",\n",
    "        \"Kesikli\": \"Kesikli\",\n",
    "        \"Ajan\": \"Tekli-ajan\"\n",
    "    }\n",
    "    \n",
    "    print(\"Çevresel Özellikler:\", cevresel_ozellikler)\n",
    "\n",
    "if __name__ == \"__main__\":\n",
    "    simulate_refleks_ajan()\n"
   ]
  },
  {
   "cell_type": "code",
   "execution_count": null,
   "id": "0b765f64-c476-4b58-82fa-aabf4d35286c",
   "metadata": {},
   "outputs": [],
   "source": []
  }
 ],
 "metadata": {
  "kernelspec": {
   "display_name": "Python 3 (ipykernel)",
   "language": "python",
   "name": "python3"
  },
  "language_info": {
   "codemirror_mode": {
    "name": "ipython",
    "version": 3
   },
   "file_extension": ".py",
   "mimetype": "text/x-python",
   "name": "python",
   "nbconvert_exporter": "python",
   "pygments_lexer": "ipython3",
   "version": "3.12.3"
  }
 },
 "nbformat": 4,
 "nbformat_minor": 5
}
