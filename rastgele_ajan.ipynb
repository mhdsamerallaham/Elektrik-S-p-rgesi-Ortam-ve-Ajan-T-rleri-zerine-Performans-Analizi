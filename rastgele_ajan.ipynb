{
 "cells": [
  {
   "cell_type": "code",
   "execution_count": 8,
   "id": "7c6da7c1-aee4-4377-8eb3-1eb2f596f08d",
   "metadata": {},
   "outputs": [
    {
     "name": "stdout",
     "output_type": "stream",
     "text": [
      "Deneme 1: Başarı Oranı: %100.00\n",
      "Deneme 2: Başarı Oranı: %0.00\n",
      "Deneme 3: Başarı Oranı: %0.00\n",
      "Deneme 4: Başarı Oranı: %0.00\n",
      "Deneme 5: Başarı Oranı: %0.00\n",
      "Deneme 6: Başarı Oranı: %100.00\n",
      "Deneme 7: Başarı Oranı: %100.00\n",
      "Deneme 8: Başarı Oranı: %100.00\n",
      "Deneme 9: Başarı Oranı: %0.00\n",
      "Deneme 10: Başarı Oranı: %0.00\n",
      "Genel Başarı Oranı: %40.00\n"
     ]
    },
    {
     "data": {
      "image/png": "[encoded data removed]",
      "text/plain": [
       "<Figure size 640x480 with 1 Axes>"
      ]
     },
     "metadata": {},
     "output_type": "display_data"
    },
    {
     "name": "stdout",
     "output_type": "stream",
     "text": [
      "Çevresel Özellikler: {'Gözlenebilirlik': 'Kısmi Gözlenebilir', 'Deterministik': 'Stokastik', 'Epizodik': 'Epizodik', 'Dinamik': 'Statik', 'Kesikli': 'Kesikli', 'Ajan': 'Tekli-ajan'}\n"
     ]
    }
   ],
   "source": [
    "import random\n",
    "import matplotlib.pyplot as plt\n",
    "\n",
    "class ElektrikSupurgesiOrtam:\n",
    "    def __init__(self):\n",
    "        self.konumlar = {\n",
    "            \"A\": random.choice([\"Temiz\", \"Kirli\"]),\n",
    "            \"B\": random.choice([\"Temiz\", \"Kirli\"])\n",
    "        }\n",
    "        self.ajan_konum = random.choice([\"A\", \"B\"])\n",
    "        self.eylemler = [\"sola\", \"sağa\", \"süpür\", \"bekle\"]\n",
    "\n",
    "    def temiz_mi(self):\n",
    "        return self.konumlar[\"A\"] == \"Temiz\" and self.konumlar[\"B\"] == \"Temiz\"\n",
    "\n",
    "    def sola_git(self):\n",
    "        self.ajan_konum = \"A\"\n",
    "\n",
    "    def saga_git(self):\n",
    "        self.ajan_konum = \"B\"\n",
    "\n",
    "    def supur(self):\n",
    "        self.konumlar[self.ajan_konum] = \"Temiz\"\n",
    "\n",
    "    def eylemi_gerceklestir(self, eylem):\n",
    "        if eylem == \"sola\":\n",
    "            self.sola_git()\n",
    "        elif eylem == \"sağa\":\n",
    "            self.saga_git()\n",
    "        elif eylem == \"süpür\":\n",
    "            self.supur()\n",
    "\n",
    "class RastgeleAjan:\n",
    "    def __init__(self, ortam):\n",
    "        self.env = ortam\n",
    "        self.successful_cleanings = 0\n",
    "        self.total_steps = 0\n",
    "\n",
    "    def act(self):\n",
    "        eylem = random.choice(self.env.eylemler)\n",
    "        self.env.eylemi_gerceklestir(eylem)\n",
    "        if self.env.konumlar[self.env.ajan_konum] == \"Temiz\":\n",
    "            self.successful_cleanings += 1\n",
    "        self.total_steps += 1\n",
    "\n",
    "def simulate_rastgele_ajan(deneme_sayisi=10):\n",
    "    basari_oranlari = []\n",
    "    \n",
    "    for deneme in range(deneme_sayisi):\n",
    "        ortam = ElektrikSupurgesiOrtam()\n",
    "        ajan_instance = RastgeleAjan(ortam)\n",
    "        \n",
    "        for _ in range(10):  # 10 adım\n",
    "            ajan_instance.act()\n",
    "        \n",
    "        # Başarı oranını görevini yerine getirip getirmediğine göre hesaplıyoruz\n",
    "        total_cleanings = (ajan_instance.successful_cleanings == 10)  # Tüm görevleri temizleme\n",
    "        success_rate = total_cleanings * 100  # 0 veya 100\n",
    "        basari_oranlari.append(success_rate)\n",
    "        \n",
    "        # Her denemeden sonra çıktı ver\n",
    "        print(f\"Deneme {deneme + 1}: Başarı Oranı: %{success_rate:.2f}\")\n",
    "    \n",
    "    genel_basari_orani = sum(basari_oranlari) / deneme_sayisi\n",
    "    print(f\"Genel Başarı Oranı: %{genel_basari_orani:.2f}\")\n",
    "    \n",
    "    # Görselleştirme\n",
    "    plt.bar(range(1, deneme_sayisi + 1), basari_oranlari, color='blue')\n",
    "    plt.xlabel('Deneme Sayısı')\n",
    "    plt.ylabel('Başarı Oranı (%)')\n",
    "    plt.title('Rastgele Ajan Başarı Oranı')\n",
    "    plt.axhline(y=genel_basari_orani, color='red', linestyle='--')\n",
    "    plt.show()\n",
    "\n",
    "    # Çevresel Özellikler\n",
    "    cevresel_ozellikler = {\n",
    "        \"Gözlenebilirlik\": \"Kısmi Gözlenebilir\",\n",
    "        \"Deterministik\": \"Stokastik\",\n",
    "        \"Epizodik\": \"Epizodik\",\n",
    "        \"Dinamik\": \"Statik\",\n",
    "        \"Kesikli\": \"Kesikli\",\n",
    "        \"Ajan\": \"Tekli-ajan\"\n",
    "    }\n",
    "    \n",
    "    print(\"Çevresel Özellikler:\", cevresel_ozellikler)\n",
    "\n",
    "if __name__ == \"__main__\":\n",
    "    simulate_rastgele_ajan()"
   ]
  },
  {
   "cell_type": "code",
   "execution_count": null,
   "id": "13ac1ad5-a0c4-4fe3-89ba-45b6b3fdf68e",
   "metadata": {},
   "outputs": [],
   "source": []
  }
 ],
 "metadata": {
  "kernelspec": {
   "display_name": "Python 3 (ipykernel)",
   "language": "python",
   "name": "python3"
  },
  "language_info": {
   "codemirror_mode": {
    "name": "ipython",
    "version": 3
   },
   "file_extension": ".py",
   "mimetype": "text/x-python",
   "name": "python",
   "nbconvert_exporter": "python",
   "pygments_lexer": "ipython3",
   "version": "3.12.3"
  }
 },
 "nbformat": 4,
 "nbformat_minor": 5
}
